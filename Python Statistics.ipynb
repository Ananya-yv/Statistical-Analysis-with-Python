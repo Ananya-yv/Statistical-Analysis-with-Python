{
 "cells": [
  {
   "cell_type": "markdown",
   "id": "701cacfa-25c7-4d94-8300-925093e907e2",
   "metadata": {},
   "source": [
    "# Statistical Analysis using Python"
   ]
  },
  {
   "cell_type": "markdown",
   "id": "dd909b7e-693a-40e5-a58a-cb6b17f06bf7",
   "metadata": {},
   "source": [
    "### Descriptive Statstics in python:\n",
    "Descriptive statistics involve summarizing and analyzing the key features of a dataset to provide insights into the data’s distribution and spread. These statistics offer a basic understanding of the data, helping to describe its central tendency, dispersion, and shape.\n",
    "{ython provides modules like <code>pandas</code> and <code>numpy</code> to perform descriptive statistics. "
   ]
  },
  {
   "cell_type": "markdown",
   "id": "2d12a78d-74c5-4356-bf5f-7b83a1e7ef55",
   "metadata": {},
   "source": [
    "### Inferential statistics in Python:\n",
    "Inferential statistics involves methods for making predictions or generalizations about a population based on a sample of data. Some techniques are:\n",
    "1. **Hypothesis testing**: Used to determine whether there is enough evidence to reject a null hypothesis.\n",
    "2. **Confidence Intervals**: Provide a range of values that likely contain the population parameter.\n",
    "3. **Regression Analysis**: Examines relationships between variables.\n",
    "\n",
    "Python provides different modules to perform inferential statistics:\n",
    "1. **SciPy**: For statistical tests and function.\n",
    "2. **Statsmodels**: For statistical models and tests.\n",
    "3. **Seaborn and Matplotlib**: For visualizing statistical data."
   ]
  },
  {
   "cell_type": "markdown",
   "id": "03a04dc6-f9b0-4f18-93e7-4f4876c3517b",
   "metadata": {},
   "source": [
    "## Analyzing a Health-Related Dataset"
   ]
  },
  {
   "cell_type": "markdown",
   "id": "d23d0dc3-581e-46eb-8e97-b2affc8cf33d",
   "metadata": {},
   "source": [
    "### Import required packages and modules."
   ]
  },
  {
   "cell_type": "code",
   "execution_count": 1,
   "id": "d50e83e1-09ce-48f6-82cd-a5c2cb06d150",
   "metadata": {},
   "outputs": [],
   "source": [
    "import pandas as pd\n",
    "import scipy.stats as stats\n",
    "import numpy as np\n",
    "import statsmodels.api as sm\n",
    "import seaborn as sns\n",
    "import matplotlib.pyplot as plt"
   ]
  },
  {
   "cell_type": "markdown",
   "id": "5a3a0fd6-fc58-403a-84b1-3da2ad954114",
   "metadata": {},
   "source": [
    "### Get the data from the Dataset.\n",
    "Here we used Diabetes Dataset that contains the following attributes:\n",
    "\n",
    "1. **Pregnancies**: To express the Number of pregnancies\n",
    "2. **Glucose**: To express the Glucose level in blood\n",
    "3. **BloodPressure**: To express the Blood pressure measurement\n",
    "4. **SkinThickness**: To express the thickness of the skin\n",
    "5. **Insulin**: To express the Insulin level in blood\n",
    "6. **BMI**: To express the Body mass index\n",
    "7. **DiabetesPedigreeFunction**: To express the Diabetes percentage\n",
    "8. **Age**: To express the age\n",
    "9. **Outcome**: To express the final result 1 is Yes and 0 is No"
   ]
  },
  {
   "cell_type": "code",
   "execution_count": 2,
   "id": "b7756a4c-f46e-4c3d-8f7b-105c3504227b",
   "metadata": {},
   "outputs": [],
   "source": [
    "data=pd.read_csv(\"diabetes.csv\")"
   ]
  },
  {
   "cell_type": "code",
   "execution_count": 3,
   "id": "a255a905-ba09-4bc3-bfd1-397f5a4a4163",
   "metadata": {},
   "outputs": [
    {
     "data": {
      "text/html": [
       "<div>\n",
       "<style scoped>\n",
       "    .dataframe tbody tr th:only-of-type {\n",
       "        vertical-align: middle;\n",
       "    }\n",
       "\n",
       "    .dataframe tbody tr th {\n",
       "        vertical-align: top;\n",
       "    }\n",
       "\n",
       "    .dataframe thead th {\n",
       "        text-align: right;\n",
       "    }\n",
       "</style>\n",
       "<table border=\"1\" class=\"dataframe\">\n",
       "  <thead>\n",
       "    <tr style=\"text-align: right;\">\n",
       "      <th></th>\n",
       "      <th>Pregnancies</th>\n",
       "      <th>Glucose</th>\n",
       "      <th>BloodPressure</th>\n",
       "      <th>SkinThickness</th>\n",
       "      <th>Insulin</th>\n",
       "      <th>BMI</th>\n",
       "      <th>DiabetesPedigreeFunction</th>\n",
       "      <th>Age</th>\n",
       "      <th>Outcome</th>\n",
       "    </tr>\n",
       "  </thead>\n",
       "  <tbody>\n",
       "    <tr>\n",
       "      <th>0</th>\n",
       "      <td>6</td>\n",
       "      <td>148</td>\n",
       "      <td>72</td>\n",
       "      <td>35</td>\n",
       "      <td>0</td>\n",
       "      <td>33.6</td>\n",
       "      <td>0.627</td>\n",
       "      <td>50</td>\n",
       "      <td>1</td>\n",
       "    </tr>\n",
       "    <tr>\n",
       "      <th>1</th>\n",
       "      <td>1</td>\n",
       "      <td>85</td>\n",
       "      <td>66</td>\n",
       "      <td>29</td>\n",
       "      <td>0</td>\n",
       "      <td>26.6</td>\n",
       "      <td>0.351</td>\n",
       "      <td>31</td>\n",
       "      <td>0</td>\n",
       "    </tr>\n",
       "    <tr>\n",
       "      <th>2</th>\n",
       "      <td>8</td>\n",
       "      <td>183</td>\n",
       "      <td>64</td>\n",
       "      <td>0</td>\n",
       "      <td>0</td>\n",
       "      <td>23.3</td>\n",
       "      <td>0.672</td>\n",
       "      <td>32</td>\n",
       "      <td>1</td>\n",
       "    </tr>\n",
       "    <tr>\n",
       "      <th>3</th>\n",
       "      <td>1</td>\n",
       "      <td>89</td>\n",
       "      <td>66</td>\n",
       "      <td>23</td>\n",
       "      <td>94</td>\n",
       "      <td>28.1</td>\n",
       "      <td>0.167</td>\n",
       "      <td>21</td>\n",
       "      <td>0</td>\n",
       "    </tr>\n",
       "    <tr>\n",
       "      <th>4</th>\n",
       "      <td>0</td>\n",
       "      <td>137</td>\n",
       "      <td>40</td>\n",
       "      <td>35</td>\n",
       "      <td>168</td>\n",
       "      <td>43.1</td>\n",
       "      <td>2.288</td>\n",
       "      <td>33</td>\n",
       "      <td>1</td>\n",
       "    </tr>\n",
       "    <tr>\n",
       "      <th>...</th>\n",
       "      <td>...</td>\n",
       "      <td>...</td>\n",
       "      <td>...</td>\n",
       "      <td>...</td>\n",
       "      <td>...</td>\n",
       "      <td>...</td>\n",
       "      <td>...</td>\n",
       "      <td>...</td>\n",
       "      <td>...</td>\n",
       "    </tr>\n",
       "    <tr>\n",
       "      <th>763</th>\n",
       "      <td>10</td>\n",
       "      <td>101</td>\n",
       "      <td>76</td>\n",
       "      <td>48</td>\n",
       "      <td>180</td>\n",
       "      <td>32.9</td>\n",
       "      <td>0.171</td>\n",
       "      <td>63</td>\n",
       "      <td>0</td>\n",
       "    </tr>\n",
       "    <tr>\n",
       "      <th>764</th>\n",
       "      <td>2</td>\n",
       "      <td>122</td>\n",
       "      <td>70</td>\n",
       "      <td>27</td>\n",
       "      <td>0</td>\n",
       "      <td>36.8</td>\n",
       "      <td>0.340</td>\n",
       "      <td>27</td>\n",
       "      <td>0</td>\n",
       "    </tr>\n",
       "    <tr>\n",
       "      <th>765</th>\n",
       "      <td>5</td>\n",
       "      <td>121</td>\n",
       "      <td>72</td>\n",
       "      <td>23</td>\n",
       "      <td>112</td>\n",
       "      <td>26.2</td>\n",
       "      <td>0.245</td>\n",
       "      <td>30</td>\n",
       "      <td>0</td>\n",
       "    </tr>\n",
       "    <tr>\n",
       "      <th>766</th>\n",
       "      <td>1</td>\n",
       "      <td>126</td>\n",
       "      <td>60</td>\n",
       "      <td>0</td>\n",
       "      <td>0</td>\n",
       "      <td>30.1</td>\n",
       "      <td>0.349</td>\n",
       "      <td>47</td>\n",
       "      <td>1</td>\n",
       "    </tr>\n",
       "    <tr>\n",
       "      <th>767</th>\n",
       "      <td>1</td>\n",
       "      <td>93</td>\n",
       "      <td>70</td>\n",
       "      <td>31</td>\n",
       "      <td>0</td>\n",
       "      <td>30.4</td>\n",
       "      <td>0.315</td>\n",
       "      <td>23</td>\n",
       "      <td>0</td>\n",
       "    </tr>\n",
       "  </tbody>\n",
       "</table>\n",
       "<p>768 rows × 9 columns</p>\n",
       "</div>"
      ],
      "text/plain": [
       "     Pregnancies  Glucose  BloodPressure  SkinThickness  Insulin   BMI  \\\n",
       "0              6      148             72             35        0  33.6   \n",
       "1              1       85             66             29        0  26.6   \n",
       "2              8      183             64              0        0  23.3   \n",
       "3              1       89             66             23       94  28.1   \n",
       "4              0      137             40             35      168  43.1   \n",
       "..           ...      ...            ...            ...      ...   ...   \n",
       "763           10      101             76             48      180  32.9   \n",
       "764            2      122             70             27        0  36.8   \n",
       "765            5      121             72             23      112  26.2   \n",
       "766            1      126             60              0        0  30.1   \n",
       "767            1       93             70             31        0  30.4   \n",
       "\n",
       "     DiabetesPedigreeFunction  Age  Outcome  \n",
       "0                       0.627   50        1  \n",
       "1                       0.351   31        0  \n",
       "2                       0.672   32        1  \n",
       "3                       0.167   21        0  \n",
       "4                       2.288   33        1  \n",
       "..                        ...  ...      ...  \n",
       "763                     0.171   63        0  \n",
       "764                     0.340   27        0  \n",
       "765                     0.245   30        0  \n",
       "766                     0.349   47        1  \n",
       "767                     0.315   23        0  \n",
       "\n",
       "[768 rows x 9 columns]"
      ]
     },
     "execution_count": 3,
     "metadata": {},
     "output_type": "execute_result"
    }
   ],
   "source": [
    "# convert data into dataframe\n",
    "df=pd.DataFrame(data)\n",
    "df"
   ]
  },
  {
   "cell_type": "markdown",
   "id": "4f9d4a75-a872-4a99-a2f4-f9a9b606f783",
   "metadata": {},
   "source": [
    "### Calculate Descriptive Statistics:"
   ]
  },
  {
   "cell_type": "markdown",
   "id": "e0935696-6584-49c4-8d42-2df0f0b887b6",
   "metadata": {},
   "source": [
    "#### mean:"
   ]
  },
  {
   "cell_type": "code",
   "execution_count": 4,
   "id": "f3199576-ad8d-4d59-9e20-1b86b97ee146",
   "metadata": {},
   "outputs": [
    {
     "name": "stdout",
     "output_type": "stream",
     "text": [
      "Mean:\n",
      "\n",
      " Pregnancies                   3.845052\n",
      "Glucose                     120.894531\n",
      "BloodPressure                69.105469\n",
      "SkinThickness                20.536458\n",
      "Insulin                      79.799479\n",
      "BMI                          31.992578\n",
      "DiabetesPedigreeFunction      0.471876\n",
      "Age                          33.240885\n",
      "Outcome                       0.348958\n",
      "dtype: float64\n"
     ]
    }
   ],
   "source": [
    "print(\"Mean:\\n\\n\",df.mean())"
   ]
  },
  {
   "cell_type": "markdown",
   "id": "86e942e1-1b40-44dd-92c0-927485665bba",
   "metadata": {},
   "source": [
    "#### median:"
   ]
  },
  {
   "cell_type": "code",
   "execution_count": 5,
   "id": "1a4126c0-8305-4d20-bcd3-97dbbb35d42b",
   "metadata": {},
   "outputs": [
    {
     "name": "stdout",
     "output_type": "stream",
     "text": [
      "Median:\n",
      "\n",
      " Pregnancies                   3.0000\n",
      "Glucose                     117.0000\n",
      "BloodPressure                72.0000\n",
      "SkinThickness                23.0000\n",
      "Insulin                      30.5000\n",
      "BMI                          32.0000\n",
      "DiabetesPedigreeFunction      0.3725\n",
      "Age                          29.0000\n",
      "Outcome                       0.0000\n",
      "dtype: float64\n"
     ]
    }
   ],
   "source": [
    "print(\"Median:\\n\\n\",df.median())"
   ]
  },
  {
   "cell_type": "markdown",
   "id": "f226b932-7344-4715-9d68-f4238f3000d0",
   "metadata": {},
   "source": [
    "#### mode:"
   ]
  },
  {
   "cell_type": "code",
   "execution_count": 6,
   "id": "592810c2-edb9-413e-957b-9296fa184100",
   "metadata": {},
   "outputs": [
    {
     "name": "stdout",
     "output_type": "stream",
     "text": [
      "Mode:\n",
      "\n",
      " Pregnancies                  1.000\n",
      "Glucose                     99.000\n",
      "BloodPressure               70.000\n",
      "SkinThickness                0.000\n",
      "Insulin                      0.000\n",
      "BMI                         32.000\n",
      "DiabetesPedigreeFunction     0.254\n",
      "Age                         22.000\n",
      "Outcome                      0.000\n",
      "Name: 0, dtype: float64\n"
     ]
    }
   ],
   "source": [
    "print(\"Mode:\\n\\n\",df.mode().iloc[0])"
   ]
  },
  {
   "cell_type": "markdown",
   "id": "56516f17-0bc9-4452-b947-6ca77f9cafb9",
   "metadata": {},
   "source": [
    "#### Standard Deviation:"
   ]
  },
  {
   "cell_type": "code",
   "execution_count": 7,
   "id": "529bf63e-a81f-4d9c-9290-42f2f61c10bc",
   "metadata": {},
   "outputs": [
    {
     "name": "stdout",
     "output_type": "stream",
     "text": [
      "Standard Deviation:\n",
      "\n",
      " Pregnancies                   3.369578\n",
      "Glucose                      31.972618\n",
      "BloodPressure                19.355807\n",
      "SkinThickness                15.952218\n",
      "Insulin                     115.244002\n",
      "BMI                           7.884160\n",
      "DiabetesPedigreeFunction      0.331329\n",
      "Age                          11.760232\n",
      "Outcome                       0.476951\n",
      "dtype: float64\n"
     ]
    }
   ],
   "source": [
    "print(\"Standard Deviation:\\n\\n\",df.std())"
   ]
  },
  {
   "cell_type": "markdown",
   "id": "a5413222-feb1-4fd7-ab18-4f6535de5c34",
   "metadata": {},
   "source": [
    "#### Variance:"
   ]
  },
  {
   "cell_type": "code",
   "execution_count": 8,
   "id": "42a6f661-e8f6-4050-ba5a-f398f7d974e8",
   "metadata": {},
   "outputs": [
    {
     "name": "stdout",
     "output_type": "stream",
     "text": [
      "Variance:\n",
      "\n",
      " Pregnancies                    11.354056\n",
      "Glucose                      1022.248314\n",
      "BloodPressure                 374.647271\n",
      "SkinThickness                 254.473245\n",
      "Insulin                     13281.180078\n",
      "BMI                            62.159984\n",
      "DiabetesPedigreeFunction        0.109779\n",
      "Age                           138.303046\n",
      "Outcome                         0.227483\n",
      "dtype: float64\n"
     ]
    }
   ],
   "source": [
    "print(\"Variance:\\n\\n\",df.var())"
   ]
  },
  {
   "cell_type": "markdown",
   "id": "9104f2ca-ee4c-40ba-b00f-8c8f286c5b9e",
   "metadata": {},
   "source": [
    "### Calculate Inferential Statistics:"
   ]
  },
  {
   "cell_type": "markdown",
   "id": "a4ce1c1c-43c1-4c78-9cbf-a529032eb504",
   "metadata": {},
   "source": [
    "#### Hypothesis Testing:"
   ]
  },
  {
   "cell_type": "code",
   "execution_count": 9,
   "id": "aa85aed7-dccb-41f5-8cb2-45a5ccf83847",
   "metadata": {},
   "outputs": [],
   "source": [
    "# Null Hypothesis\n",
    "H0=\"Average Insulin level in Diabetes disease patients is 80\""
   ]
  },
  {
   "cell_type": "code",
   "execution_count": 10,
   "id": "04abc423-071c-42c2-a360-5b4ede0d02e1",
   "metadata": {},
   "outputs": [],
   "source": [
    "insulin=df.Insulin;"
   ]
  },
  {
   "cell_type": "code",
   "execution_count": 11,
   "id": "e2f69017-26ed-4a66-a28f-e8092ada6e0b",
   "metadata": {},
   "outputs": [],
   "source": [
    "# p test values\n",
    "t_stat,p_value=stats.ttest_1samp(insulin, 80)"
   ]
  },
  {
   "cell_type": "code",
   "execution_count": 12,
   "id": "519413a0-915a-4cf5-8bda-486b35e2c233",
   "metadata": {},
   "outputs": [
    {
     "name": "stdout",
     "output_type": "stream",
     "text": [
      "-0.04821939734450303\n",
      "0.9615539440816143\n"
     ]
    }
   ],
   "source": [
    "print(t_stat)\n",
    "print(p_value)"
   ]
  },
  {
   "cell_type": "markdown",
   "id": "071a5781-60ae-4c32-8ba3-12a538e3a1c0",
   "metadata": {},
   "source": [
    "Since the p-value (0.9616) is much greater than 0.05, you do not reject the null hypothesis. "
   ]
  },
  {
   "cell_type": "markdown",
   "id": "2e2d6cc5-a6c0-44b8-b34d-f2347e64cc51",
   "metadata": {},
   "source": [
    "#### Confidence intervals:"
   ]
  },
  {
   "cell_type": "code",
   "execution_count": 13,
   "id": "bdfc53ae-aadb-4bcc-a8ef-6d8d9cf83636",
   "metadata": {},
   "outputs": [
    {
     "name": "stdout",
     "output_type": "stream",
     "text": [
      "95% Confidence Interval for Insulin: (71.64894985425323, 87.95000847908011)\n"
     ]
    }
   ],
   "source": [
    "sample_mean = np.mean(insulin)\n",
    "standard_error = stats.sem(insulin)\n",
    "\n",
    "# Compute 95% confidence interval for BMI\n",
    "confidence_interval = stats.norm.interval(0.95, loc=sample_mean, scale=standard_error)\n",
    "\n",
    "print(f\"95% Confidence Interval for Insulin: {confidence_interval}\")"
   ]
  },
  {
   "cell_type": "markdown",
   "id": "9efe24b2-9c47-4564-9952-43a3097cb1ac",
   "metadata": {},
   "source": [
    "Since 80 falls within this confidence interval, it supports the conclusion that the true mean insulin level might reasonably be 80."
   ]
  },
  {
   "cell_type": "markdown",
   "id": "16bed96e-a0ea-48c0-bba8-140d1e80b569",
   "metadata": {},
   "source": [
    "## Exploring Regression Analysis:"
   ]
  },
  {
   "cell_type": "markdown",
   "id": "318b473e-9807-49d7-bf25-a4ab4fb0ccf7",
   "metadata": {},
   "source": [
    "### Linear Regression"
   ]
  },
  {
   "cell_type": "markdown",
   "id": "f00354ea-43db-4576-9d67-20eb0df35189",
   "metadata": {},
   "source": [
    "A linear regression analysis is performed to determine the relationship between BMI(independent variable) and Blood Pressure(Dependent) variable."
   ]
  },
  {
   "cell_type": "code",
   "execution_count": 30,
   "id": "37dff527-d035-4985-914f-657b7c45d4a5",
   "metadata": {},
   "outputs": [
    {
     "name": "stdout",
     "output_type": "stream",
     "text": [
      "                            OLS Regression Results                            \n",
      "==============================================================================\n",
      "Dep. Variable:          BloodPressure   R-squared:                       0.079\n",
      "Model:                            OLS   Adj. R-squared:                  0.078\n",
      "Method:                 Least Squares   F-statistic:                     66.08\n",
      "Date:                Fri, 06 Sep 2024   Prob (F-statistic):           1.74e-15\n",
      "Time:                        18:06:29   Log-Likelihood:                -3333.0\n",
      "No. Observations:                 768   AIC:                             6670.\n",
      "Df Residuals:                     766   BIC:                             6679.\n",
      "Df Model:                           1                                         \n",
      "Covariance Type:            nonrobust                                         \n",
      "==============================================================================\n",
      "                 coef    std err          t      P>|t|      [0.025      0.975]\n",
      "------------------------------------------------------------------------------\n",
      "const         46.9718      2.804     16.750      0.000      41.467      52.477\n",
      "BMI            0.6918      0.085      8.129      0.000       0.525       0.859\n",
      "==============================================================================\n",
      "Omnibus:                      313.629   Durbin-Watson:                   1.955\n",
      "Prob(Omnibus):                  0.000   Jarque-Bera (JB):             1449.739\n",
      "Skew:                          -1.848   Prob(JB):                         0.00\n",
      "Kurtosis:                       8.625   Cond. No.                         138.\n",
      "==============================================================================\n",
      "\n",
      "Notes:\n",
      "[1] Standard Errors assume that the covariance matrix of the errors is correctly specified.\n"
     ]
    }
   ],
   "source": [
    "X = sm.add_constant(df['BMI']) # add constant for intercept\n",
    "y = df['BloodPressure']\n",
    "\n",
    "# Create the model and fit it\n",
    "model = sm.OLS(y, X).fit() # use the Ordinary Least Squares Regression\n",
    "\n",
    "# Print the summary of the regression\n",
    "print(model.summary())"
   ]
  },
  {
   "cell_type": "markdown",
   "id": "3f210dc8-1fe7-460e-9f5b-eba57f07e9fb",
   "metadata": {},
   "source": [
    "<br>"
   ]
  },
  {
   "cell_type": "markdown",
   "id": "ec678581-5c13-4abb-9010-d4bded152d33",
   "metadata": {},
   "source": [
    "**Coefficient for BMI:** 0.6918\n",
    "This indicates that for every 1 unit increase in BMI, blood pressure increases by approximately 0.69 units.\n",
    "Since the coefficient is positive, it confirms that there's a positive relationship between BMI and blood pressure.\n",
    "\n",
    "**P-value for BMI:** 0.000 (< 0.05)\n",
    "The p-value is extremely small, indicating that the relationship between BMI and blood pressure is statistically significant.\n",
    "\n",
    "**R-squared:** 0.079 (or 7.9%)\n",
    "This means that BMI explains about 7.9% of the variability in blood pressure.\n",
    "\n",
    "Hence, there is a significant positive relationship between BMI and blood pressure, but BMI alone explains only about 7.9% of the variation in blood pressure. Other factors may play a larger role in determining blood pressure, so it would be worthwhile to explore additional variables."
   ]
  },
  {
   "cell_type": "markdown",
   "id": "8e688a86-1c18-4b43-892c-44fa4e69ffc1",
   "metadata": {},
   "source": [
    "### Visualizing the results:"
   ]
  },
  {
   "cell_type": "markdown",
   "id": "4e19475a-580d-4236-8946-b6bc659f56ae",
   "metadata": {},
   "source": [
    "A Scatter plot along with a regression line is used to visualize the relatio between BMI and Blood Pressure."
   ]
  },
  {
   "cell_type": "code",
   "execution_count": 32,
   "id": "ba49f851-7213-420c-b2fd-aed71665e78e",
   "metadata": {},
   "outputs": [
    {
     "data": {
      "text/plain": [
       "Text(0, 0.5, 'BloodPressure')"
      ]
     },
     "execution_count": 32,
     "metadata": {},
     "output_type": "execute_result"
    },
    {
     "data": {
      "image/png": "[encoded data removed]",
      "text/plain": [
       "<Figure size 640x480 with 1 Axes>"
      ]
     },
     "metadata": {},
     "output_type": "display_data"
    }
   ],
   "source": [
    "sns.scatterplot(x='BMI', y='BloodPressure', data=df, color='blue')\n",
    "plt.plot(df['BMI'], model.predict(X), color='red')\n",
    "plt.title('BMI vs BloodPressure')\n",
    "plt.xlabel('BMI')\n",
    "plt.ylabel('BloodPressure')"
   ]
  },
  {
   "cell_type": "code",
   "execution_count": 29,
   "id": "f4a3c4ef-9191-4082-95d4-e08ec9b1ba98",
   "metadata": {},
   "outputs": [
    {
     "data": {
      "text/plain": [
       "Text(24.625000000000007, 0.5, 'BloodPressure')"
      ]
     },
     "execution_count": 29,
     "metadata": {},
     "output_type": "execute_result"
    },
    {
     "data": {
      "image/png": "[encoded data removed]",
      "text/plain": [
       "<Figure size 500x500 with 1 Axes>"
      ]
     },
     "metadata": {},
     "output_type": "display_data"
    }
   ],
   "source": [
    "sns.lmplot(x='BMI', y='BloodPressure', data=df)\n",
    "plt.plot(df['BMI'], model.predict(X), color='red')\n",
    "plt.title('BMI vs BloodPressure')\n",
    "plt.xlabel('BMI')\n",
    "plt.ylabel('BloodPressure')"
   ]
  },
  {
   "cell_type": "markdown",
   "id": "ba4a5b03-1680-4c74-86c6-1a6197bb716c",
   "metadata": {},
   "source": [
    "<br>"
   ]
  },
  {
   "cell_type": "markdown",
   "id": "6742914a-fcfb-409e-9dc1-fb383aa1d32f",
   "metadata": {},
   "source": [
    "\n",
    "**Positive Trend:** As BMI increases, blood pressure tends to increase, as indicated by the upward slope of the red line.\n",
    "<br>\n",
    "**Variability:** There’s significant scatter in the data, especially for higher BMIs, indicating that while BMI has some influence on blood pressure, other factors also contribute to blood pressure levels."
   ]
  },
  {
   "cell_type": "markdown",
   "id": "f2d19bba-18b7-472d-a3f4-5506b0e9981a",
   "metadata": {},
   "source": [
    "## Conclusion:"
   ]
  },
  {
   "cell_type": "markdown",
   "id": "5d3127d6-0796-4efb-9d74-50e6a6d4cf29",
   "metadata": {},
   "source": [
    "We explored a health-related dataset and aimed to understand both the descriptive statistics and the relationship between key features through regression analysis. \n",
    "\n",
    "Python played a key role in analyzing the dataset by providing powerful libraries for data manipulation, statistical analysis, and visualization:\n",
    "\n",
    "**Pandas:** Helped load and manage the dataset, allowing easy calculation of descriptive statistics like mean, median, and standard deviation.\n",
    "\n",
    "**SciPy/Statsmodels:** Performed hypothesis testing and calculated confidence intervals.\n",
    "\n",
    "**Statsmodels/Scikit-learn:** Conducted linear regression analysis to explore relationships between variables, generating key statistics like coefficients and p-values.\n",
    "\n",
    "**Matplotlib/Seaborn:** Created visualizations to display the relationships between variables and illustrate the regression line.\n",
    "\n",
    "These libraries made complex analysis and data visualization easy and efficient."
   ]
  }
 ],
 "metadata": {
  "kernelspec": {
   "display_name": "Python 3 (ipykernel)",
   "language": "python",
   "name": "python3"
  },
  "language_info": {
   "codemirror_mode": {
    "name": "ipython",
    "version": 3
   },
   "file_extension": ".py",
   "mimetype": "text/x-python",
   "name": "python",
   "nbconvert_exporter": "python",
   "pygments_lexer": "ipython3",
   "version": "3.12.5"
  }
 },
 "nbformat": 4,
 "nbformat_minor": 5
}
